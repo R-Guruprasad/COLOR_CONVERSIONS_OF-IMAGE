{
 "cells": [
  {
   "cell_type": "code",
   "execution_count": 1,
   "id": "d1eba4eb-4083-44ef-b515-c3934e237f81",
   "metadata": {},
   "outputs": [],
   "source": [
    "import cv2"
   ]
  },
  {
   "cell_type": "code",
   "execution_count": 2,
   "id": "0821d0cf-ec18-48bb-a27d-c905f2d2fc10",
   "metadata": {},
   "outputs": [],
   "source": [
    "# Read the image\n",
    "image = cv2.imread('08.JPG')"
   ]
  },
  {
   "cell_type": "code",
   "execution_count": 3,
   "id": "1d593a4b-a425-4ef1-823f-54787e9a198e",
   "metadata": {},
   "outputs": [],
   "source": [
    "# Display the image in a window\n",
    "cv2.imshow('Image Window', image)"
   ]
  },
  {
   "cell_type": "code",
   "execution_count": 4,
   "id": "1889babb-5248-4253-bedf-53165011d86a",
   "metadata": {},
   "outputs": [],
   "source": [
    "# Wait indefinitely for a key press\n",
    "cv2.waitKey(0)\n",
    "# Destroy all windows created by OpenCV\n",
    "cv2.destroyAllWindows()"
   ]
  },
  {
   "cell_type": "code",
   "execution_count": 5,
   "id": "d4529014-68f0-46b0-bd51-80a8f2579565",
   "metadata": {},
   "outputs": [
    {
     "data": {
      "text/plain": [
       "(500, 500, 3)"
      ]
     },
     "execution_count": 5,
     "metadata": {},
     "output_type": "execute_result"
    }
   ],
   "source": [
    "image.shape"
   ]
  },
  {
   "cell_type": "code",
   "execution_count": 6,
   "id": "462b9949-bb02-470e-ab27-c7a45c3721ed",
   "metadata": {},
   "outputs": [
    {
     "data": {
      "text/plain": [
       "750000"
      ]
     },
     "execution_count": 6,
     "metadata": {},
     "output_type": "execute_result"
    }
   ],
   "source": [
    "image.size"
   ]
  },
  {
   "cell_type": "code",
   "execution_count": 7,
   "id": "ad7b1f93-5e0c-4ed7-ab8e-9ca977a5a99b",
   "metadata": {},
   "outputs": [],
   "source": [
    "img = cv2.imread(\"08.JPG\", cv2.IMREAD_COLOR)"
   ]
  },
  {
   "cell_type": "code",
   "execution_count": 8,
   "id": "e0c216ae-91e7-4a71-9f1a-a5c0364b33a1",
   "metadata": {},
   "outputs": [],
   "source": [
    "cv2.imshow('Image Window', img)\n",
    "cv2.waitKey(0)\n",
    "cv2.destroyAllWindows()"
   ]
  },
  {
   "cell_type": "code",
   "execution_count": 9,
   "id": "316cdb64-91f4-4e39-9efd-b3c88b6ae5e0",
   "metadata": {},
   "outputs": [],
   "source": [
    "img = cv2.imread(\"08.JPG\", 1)\n",
    "cv2.imshow('Image Window', img)\n",
    "cv2.waitKey(0)\n",
    "cv2.destroyAllWindows()"
   ]
  },
  {
   "cell_type": "code",
   "execution_count": 10,
   "id": "c31a6ff4-3227-40c1-9f53-b3445c5b0219",
   "metadata": {},
   "outputs": [],
   "source": [
    "img = cv2.imread(\"08.JPG\", cv2.IMREAD_GRAYSCALE)\n",
    "cv2.imshow('Image Window', img)\n",
    "cv2.waitKey(0)\n",
    "cv2.destroyAllWindows()"
   ]
  },
  {
   "cell_type": "code",
   "execution_count": 11,
   "id": "576a66c2-eeb5-4e33-aa5b-92be4c55fefc",
   "metadata": {},
   "outputs": [],
   "source": [
    "img = cv2.imread(\"08.JPG\", 0)\n",
    "cv2.imshow('Image Window', img)\n",
    "cv2.waitKey(0)\n",
    "cv2.destroyAllWindows()"
   ]
  },
  {
   "cell_type": "code",
   "execution_count": 12,
   "id": "78bd5098-1d58-4d0d-ad9c-e160f36e7eb5",
   "metadata": {},
   "outputs": [],
   "source": [
    "# Read the image\n",
    "image = cv2.imread(\"08.JPG\")\n",
    "\n",
    "# Convert to grayscale\n",
    "img = cv2.cvtColor(image, cv2.COLOR_BGR2GRAY)\n",
    "\n",
    "# Display the grayscale image\n",
    "cv2.imshow('Image Window', img)\n",
    "cv2.waitKey(0)\n",
    "cv2.destroyAllWindows()\n"
   ]
  },
  {
   "cell_type": "code",
   "execution_count": 13,
   "id": "dec20173-41e9-4174-9c34-53591cf16606",
   "metadata": {},
   "outputs": [],
   "source": [
    "# Read the image\n",
    "image = cv2.imread(\"08.JPG\")\n",
    "\n",
    "# Convert to grayscale\n",
    "img = cv2.cvtColor(image, cv2.COLOR_BGR2GRAY)\n",
    "\n",
    "# Display the grayscale image\n",
    "cv2.imshow('Image Window', img)\n",
    "cv2.waitKey(0)\n",
    "cv2.destroyAllWindows()\n"
   ]
  },
  {
   "cell_type": "code",
   "execution_count": 14,
   "id": "34049251-0ef0-4a46-a675-8d348470a5f0",
   "metadata": {},
   "outputs": [],
   "source": [
    "# Read the image\n",
    "image = cv2.imread(\"08.JPG\")\n",
    "\n",
    "# Convert to HSV color space\n",
    "img_hsv = cv2.cvtColor(image, cv2.COLOR_BGR2HSV)\n",
    "\n",
    "# Display the HSV image\n",
    "cv2.imshow('Image Window (HSV)', img_hsv)\n",
    "cv2.waitKey(0)\n",
    "cv2.destroyAllWindows()"
   ]
  },
  {
   "cell_type": "raw",
   "id": "13ae258c-3743-4016-8f83-f6d05e33cbc4",
   "metadata": {},
   "source": [
    "Bitwise_not()\n",
    "This function will flips the pixels of an image \n",
    "all pixel value that are greater than zero will be set to zero\n",
    "all pixel value that are equal to zero will be set to 255\n",
    "it will creat inversion of image "
   ]
  },
  {
   "cell_type": "code",
   "execution_count": 15,
   "id": "4c417705-a1bd-4b93-811d-26d2fcb650fe",
   "metadata": {},
   "outputs": [],
   "source": [
    "import cv2\n",
    "\n",
    "img = cv2.imread(\"08.JPG\")\n",
    "res_img=cv2.bitwise_not(img)\n",
    "\n",
    "# Display the HSV image\n",
    "cv2.imshow('Image Window', res_img)\n",
    "cv2.waitKey(0)\n",
    "cv2.destroyAllWindows()"
   ]
  },
  {
   "cell_type": "raw",
   "id": "c8e65e73-5424-4fe5-b3aa-5b500132a9ce",
   "metadata": {},
   "source": [
    "add() \n",
    "this method is used to add two images\n",
    "takes two arguments(two images)\n",
    "one condition to add() is both the image should be in same dimention \n",
    "\n",
    "addWeighted()\n",
    "This method is ud=sed to add two images with required transparencey \n",
    "takes 5 arguments\n",
    "aeg-1 : image 1\n",
    "arg 2 : Transparency level of image 1  in between 0 and 1\n",
    "areg 3 : image 2 \n",
    "arg 4 : Transparancy level of imag 2 in between 0 and 1\n",
    "arg 5 : gamma level( brighness)"
   ]
  },
  {
   "cell_type": "code",
   "execution_count": 16,
   "id": "7210644c-7991-4c58-88d2-edb803ca8031",
   "metadata": {},
   "outputs": [],
   "source": [
    "import cv2\n",
    "\n",
    "img_1 = cv2.imread(\"08.JPG\")\n",
    "img_2 = cv2.imread(\"08-Copy1.JPG\")\n",
    "\n",
    "res_image = cv2.add(img_1,img_2)\n",
    "\n",
    "# Display the HSV image\n",
    "cv2.imshow('Image Window', res_image)\n",
    "cv2.waitKey(0)\n",
    "cv2.destroyAllWindows()"
   ]
  },
  {
   "cell_type": "code",
   "execution_count": 17,
   "id": "1ce489c6-8070-414b-9b99-ab5d8d439ead",
   "metadata": {},
   "outputs": [],
   "source": [
    "import cv2\n",
    "\n",
    "img_1 = cv2.imread(\"08.JPG\")\n",
    "img_2 = cv2.imread(\"08-Copy1.JPG\")\n",
    "\n",
    "res_image = cv2.addWeighted(img_1,0.5,img_2,0.5,10)\n",
    "\n",
    "# Display the HSV image\n",
    "cv2.imshow('Image Window', res_image)\n",
    "cv2.waitKey(0)\n",
    "cv2.destroyAllWindows()"
   ]
  },
  {
   "cell_type": "raw",
   "id": "49b667be-628f-4492-a383-5d2d54f1e377",
   "metadata": {},
   "source": [
    "rectangle()\n",
    "This function is used to draw a rectangle on the imag e\n",
    "it takes 5 argument \n",
    "arg1 - imag e\n",
    "arg 2 - start point (x,y)\n",
    "arg 3- stop point(x,y)\n",
    "arg 4 - color(R,G,B) each color having a value between 0 to 255\n",
    "arg 5 - thickness "
   ]
  },
  {
   "cell_type": "code",
   "execution_count": 24,
   "id": "33179d49-cd79-4ced-976b-16a8dfc0c482",
   "metadata": {},
   "outputs": [],
   "source": [
    "import cv2\n",
    "\n",
    "img = cv2.imread(\"08.JPG\")\n",
    "start=(0,0)\n",
    "stop=(500,500)\n",
    "color=(100,255,100)\n",
    "thickness=10\n",
    "\n",
    "res_img=cv2.rectangle(img,start,stop,color,thickness)\n",
    "\n",
    "cv2.imshow('Image Window', res_img)\n",
    "cv2.waitKey(0)\n",
    "cv2.destroyAllWindows()"
   ]
  },
  {
   "cell_type": "raw",
   "id": "a07d3b9d-953a-481c-aabb-5eccbddafe77",
   "metadata": {},
   "source": [
    "circle()\n",
    "this function is used to draw a circule on image \n",
    "circle( img, center_coordinates, radius,colour,thickness)\n",
    "img - Target\n",
    "center_coordinates - x and y cordinates \n",
    "radius - radius \n",
    "color -(red, green,blue) -betweent 0 to 255\n",
    "thinkness - border for circule in px. if thickness is -1 it implies circule will fill with give color"
   ]
  },
  {
   "cell_type": "code",
   "execution_count": 44,
   "id": "25a5dbe0-a249-40d1-a907-da1ebeeaeb9a",
   "metadata": {},
   "outputs": [],
   "source": [
    "import cv2\n",
    "\n",
    "img = cv2.imread(\"08.JPG\")\n",
    "\n",
    "res=cv2.circle(img,(230,225),150,(255,0,0),10)\n",
    "\n",
    "cv2.imshow('Image Window', res)\n",
    "cv2.waitKey(0)\n",
    "cv2.destroyAllWindows()"
   ]
  },
  {
   "cell_type": "raw",
   "id": "ae2a518a-7367-4201-a785-2c8cbc5f3bbe",
   "metadata": {},
   "source": [
    "cv2.line() - function\n",
    "This function is used to draw a line on a specified image\n",
    "cv2.line(image, start_point,stop_point, color,thickness)"
   ]
  },
  {
   "cell_type": "code",
   "execution_count": 46,
   "id": "039a998c-de3c-441b-92d1-334f204f37a1",
   "metadata": {},
   "outputs": [],
   "source": [
    "import cv2\n",
    "\n",
    "img = cv2.imread(\"08.JPG\")\n",
    "res = cv2.line(img,(0,0),(500,500),(200,100,205),10)\n",
    "\n",
    "cv2.imshow('Image Window', res)\n",
    "cv2.waitKey(0)\n",
    "cv2.destroyAllWindows()"
   ]
  },
  {
   "cell_type": "raw",
   "id": "ea4226de-b073-436f-9de6-dc465ecc52e8",
   "metadata": {},
   "source": [
    "Concate function\n",
    "This function is used to concatenenate (adding/joining) two images\n",
    "this can be done in two ways\n",
    "1. adding images horizontally \n",
    "2. adding images vertically \n",
    "\n",
    "horizontaly - hconcat([image1,image2])\n",
    "vertical - vconcat([image1,image2])\n"
   ]
  },
  {
   "cell_type": "code",
   "execution_count": 39,
   "id": "8ff3c29f-6764-4201-86a0-8c90c0cf802c",
   "metadata": {},
   "outputs": [],
   "source": [
    "import cv2\n",
    "\n",
    "img1 = cv2.imread(\"08.JPG\")\n",
    "img2 = cv2.imread(\"08-Copy1.JPG\")\n",
    "\n",
    "himage=cv2.hconcat([img1,img2])\n",
    "\n",
    "# Display the HSV image\n",
    "cv2.imshow('Image Window', himage)\n",
    "cv2.waitKey(0)\n",
    "cv2.destroyAllWindows()\n",
    "\n"
   ]
  },
  {
   "cell_type": "code",
   "execution_count": 27,
   "id": "e2770f70-95e8-4232-bf1c-727162638d18",
   "metadata": {},
   "outputs": [],
   "source": [
    "import cv2\n",
    "\n",
    "img1 = cv2.imread(\"08.JPG\")\n",
    "img2 = cv2.imread(\"08-Copy1.JPG\")\n",
    "\n",
    "vimage=cv2.vconcat([img1,img2])\n",
    "\n",
    "# Display the HSV image\n",
    "cv2.imshow('Image Window', vimage)\n",
    "cv2.waitKey(0)\n",
    "cv2.destroyAllWindows()"
   ]
  },
  {
   "cell_type": "raw",
   "id": "74a70254-6957-46fe-8518-cf7fa4b28220",
   "metadata": {},
   "source": [
    "Image Properties \n",
    "1. shape \n",
    "image.shape - give shape of an image , (width, high, channels) \n",
    "channels - clour channels \n",
    "if it is RGB then it is 3 channales ( 1 red, 1, green, 1 blue )\n",
    "any color image can have upto 56 channels \n",
    "for gray scale image - it having 3 but all are same ie r=g=r\n",
    "\n",
    "2. Size\n",
    "image.size -- it wil gives total number of pixel in th image \n"
   ]
  },
  {
   "cell_type": "code",
   "execution_count": 28,
   "id": "36fa09e9-f0a5-4058-b524-4076048b8c25",
   "metadata": {},
   "outputs": [
    {
     "name": "stdout",
     "output_type": "stream",
     "text": [
      "shape of the Image is (500, 500, 3)\n",
      "750000\n"
     ]
    }
   ],
   "source": [
    "import cv2\n",
    "\n",
    "img1 = cv2.imread(\"08.JPG\")\n",
    "\n",
    "print(\"shape of the Image is\",img.shape)\n",
    "print(img.size)"
   ]
  },
  {
   "cell_type": "raw",
   "id": "27ca53c8-d243-4ce3-9447-e1c9c1fc2f95",
   "metadata": {},
   "source": [
    "Image Cliping - crop the image\n",
    "by slicing the hight and width we can crop \n",
    "rec_image=image[slicing_hsight,slice_width]\n",
    "res_image=image[start_height:stop_height,start_width:stop:width]"
   ]
  },
  {
   "cell_type": "code",
   "execution_count": 29,
   "id": "aba1a069-74cd-4e1b-b2f8-b1da2a9e812b",
   "metadata": {},
   "outputs": [],
   "source": [
    "# chipping \n",
    "import cv2\n",
    "\n",
    "img1 = cv2.imread(\"08.JPG\")\n",
    "\n",
    "rec_image=image[100:500,100:1000]\n",
    "\n",
    "# Display the HSV image\n",
    "cv2.imshow('Image Window', rec_image)\n",
    "cv2.waitKey(0)\n",
    "cv2.destroyAllWindows()"
   ]
  },
  {
   "cell_type": "raw",
   "id": "03a76c63-f793-47dd-906c-cf2ff180b66b",
   "metadata": {},
   "source": [
    "output function -\n",
    "it wil creat/display a image in a window \n",
    "imshow()\n",
    "imshow(title, image display)\n",
    "This is the output function which display the image in a window instandly \n",
    "2 arguments\n",
    "\n",
    "1--- Name/ title of the window\n",
    "2----- Image to be displayed on window\n",
    "\n",
    "waitKey(0)\n",
    "this function is used to freeze the image on a window \n"
   ]
  },
  {
   "cell_type": "code",
   "execution_count": 30,
   "id": "47686561-5b0c-4343-b930-71034147152b",
   "metadata": {},
   "outputs": [],
   "source": [
    "import cv2\n",
    "\n",
    "img1 = cv2.imread(\"08.JPG\")\n",
    "\n",
    "# Display the HSV image\n",
    "cv2.imshow('Image Window', img1)\n",
    "cv2.waitKey(0)\n",
    "cv2.destroyAllWindows()"
   ]
  },
  {
   "cell_type": "raw",
   "id": "6d360fd3-e5e4-4f81-8574-d99b22b30d65",
   "metadata": {},
   "source": [
    "Image Rotation\n",
    "1. Rotate()\n",
    "rotate(img,angle)\n",
    "rotate(img,cv2.ROTATE_90_COUNTERCLOCKWISE)\n",
    "rotate(img,cv2.ROTATE_180)\n",
    "rotate(img,cv2.ROTATE_90_CLOCKWISE)\n",
    "\n",
    "2. for user defined angle \n",
    "step 1 - import cv2\n",
    "step 2- load the image \n",
    "step 3- find the center corrdinate (width/2 & Height/2)\n",
    "h,w = image.shape[:2]  \n",
    "[0]- h\n",
    "[1] -w\n",
    "step 4 - get rotation matrix \n",
    "rotation = cv2.getRotationMatrix2D(center,angle,scale)\n",
    "\n",
    "step 5 - \n",
    "res = cv2.warpAffine(img,rotation,(width,height))\n",
    "\n",
    "\n"
   ]
  },
  {
   "cell_type": "code",
   "execution_count": 31,
   "id": "68688419-8bd3-4692-9d3f-f7b07f47146f",
   "metadata": {},
   "outputs": [],
   "source": [
    "import cv2\n",
    "\n",
    "img = cv2.imread(\"08.JPG\")\n",
    "res=cv2.rotate(img,cv2.ROTATE_90_CLOCKWISE)\n",
    "# Display the HSV image\n",
    "cv2.imshow('Image Window', res)\n",
    "cv2.waitKey(0)\n",
    "cv2.destroyAllWindows()"
   ]
  },
  {
   "cell_type": "code",
   "execution_count": 32,
   "id": "27407d29-94a3-470e-9757-769c82158ca3",
   "metadata": {},
   "outputs": [],
   "source": [
    "import cv2\n",
    "\n",
    "img = cv2.imread(\"08.JPG\")\n",
    "res=cv2.rotate(img,cv2.ROTATE_90_COUNTERCLOCKWISE)\n",
    "# Display the HSV image\n",
    "cv2.imshow('Image Window', res)\n",
    "cv2.waitKey(0)\n",
    "cv2.destroyAllWindows()"
   ]
  },
  {
   "cell_type": "code",
   "execution_count": 33,
   "id": "7ada839a-564e-4bc8-a291-45fecd3d0907",
   "metadata": {},
   "outputs": [],
   "source": [
    "import cv2\n",
    "\n",
    "img = cv2.imread(\"08.JPG\")\n",
    "res=cv2.rotate(img,cv2.ROTATE_180)\n",
    "# Display the HSV image\n",
    "cv2.imshow('Image Window', res)\n",
    "cv2.waitKey(0)\n",
    "cv2.destroyAllWindows()"
   ]
  },
  {
   "cell_type": "code",
   "execution_count": 34,
   "id": "4a068d27-06e1-4dad-98f9-228c2d282655",
   "metadata": {},
   "outputs": [],
   "source": [
    "import cv2\n",
    "\n",
    "img = cv2.imread(\"08.JPG\")\n",
    "res=cv2.rotate(img,cv2.ROTATE_90_CLOCKWISE)\n",
    "# Display the HSV image\n",
    "cv2.imshow('Image Window', res)\n",
    "cv2.waitKey(0)\n",
    "cv2.destroyAllWindows()"
   ]
  },
  {
   "cell_type": "code",
   "execution_count": 35,
   "id": "d5ec8c2f-287a-4a59-b3db-fb625d4ccfe9",
   "metadata": {},
   "outputs": [],
   "source": [
    "# User defined \n",
    "import cv2\n",
    "\n",
    "img = cv2.imread(\"08.JPG\")\n",
    "h,w = image.shape[0:2] \n",
    "center=(w/2,h/2)\n",
    "rot = cv2.getRotationMatrix2D(center,135,1)\n",
    "res=cv2.warpAffine(img,rot,(531, 413))\n",
    "\n",
    "cv2.imshow('Image Window', res)\n",
    "cv2.waitKey(0)\n",
    "cv2.destroyAllWindows()\n"
   ]
  },
  {
   "cell_type": "code",
   "execution_count": null,
   "id": "ba20c2a5",
   "metadata": {},
   "outputs": [],
   "source": []
  }
 ],
 "metadata": {
  "kernelspec": {
   "display_name": "Python 3 (ipykernel)",
   "language": "python",
   "name": "python3"
  },
  "language_info": {
   "codemirror_mode": {
    "name": "ipython",
    "version": 3
   },
   "file_extension": ".py",
   "mimetype": "text/x-python",
   "name": "python",
   "nbconvert_exporter": "python",
   "pygments_lexer": "ipython3",
   "version": "3.9.13"
  }
 },
 "nbformat": 4,
 "nbformat_minor": 5
}
